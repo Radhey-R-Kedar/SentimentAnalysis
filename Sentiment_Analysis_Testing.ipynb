{
  "metadata": {
    "kernelspec": {
      "display_name": "Python 3",
      "name": "python3"
    },
    "language_info": {
      "name": "python",
      "version": "3.7.12",
      "mimetype": "text/x-python",
      "codemirror_mode": {
        "name": "ipython",
        "version": 3
      },
      "pygments_lexer": "ipython3",
      "nbconvert_exporter": "python",
      "file_extension": ".py"
    },
    "colab": {
      "provenance": [],
      "gpuType": "T4"
    },
    "accelerator": "GPU"
  },
  "nbformat_minor": 0,
  "nbformat": 4,
  "cells": [
    {
      "cell_type": "code",
      "source": [
        "import pickle\n",
        "# Later, to load the tokenizer\n",
        "with open('/content/tokenizer.pickle', 'rb') as handle:\n",
        "    tokenizer = pickle.load(handle)\n"
      ],
      "metadata": {
        "id": "7Aooe4rjHUnb"
      },
      "execution_count": 12,
      "outputs": []
    },
    {
      "cell_type": "code",
      "source": [
        "import nltk\n",
        "# Download NLTK resources (you only need to do this once)\n",
        "nltk.download('punkt')\n",
        "nltk.download('stopwords')"
      ],
      "metadata": {
        "colab": {
          "base_uri": "https://localhost:8080/"
        },
        "id": "dbQvgEUMJIyk",
        "outputId": "eff24624-0cb3-47dd-f070-a5f68a4f7305"
      },
      "execution_count": 13,
      "outputs": [
        {
          "output_type": "stream",
          "name": "stderr",
          "text": [
            "[nltk_data] Downloading package punkt to /root/nltk_data...\n",
            "[nltk_data]   Package punkt is already up-to-date!\n",
            "[nltk_data] Downloading package stopwords to /root/nltk_data...\n",
            "[nltk_data]   Package stopwords is already up-to-date!\n"
          ]
        },
        {
          "output_type": "execute_result",
          "data": {
            "text/plain": [
              "True"
            ]
          },
          "metadata": {},
          "execution_count": 13
        }
      ]
    },
    {
      "cell_type": "code",
      "source": [
        "from tensorflow.keras.models import load_model\n",
        "from tensorflow.keras.preprocessing.sequence import pad_sequences\n",
        "from tensorflow.keras.preprocessing.text import Tokenizer\n",
        "from nltk.corpus import stopwords\n",
        "from nltk.tokenize import word_tokenize\n",
        "import string\n",
        "import numpy as np\n",
        "\n",
        "\n",
        "\n",
        "# Load the trained model\n",
        "loaded_model = load_model('/content/M1.h5')\n"
      ],
      "metadata": {
        "id": "jm-swV9RHJ8r"
      },
      "execution_count": 14,
      "outputs": []
    },
    {
      "cell_type": "code",
      "source": [
        "# Define function for text preprocessing\n",
        "def preprocess_text(text):\n",
        "    # Check if text is a string\n",
        "    if isinstance(text, str):\n",
        "        # Tokenization\n",
        "        tokens = word_tokenize(text)\n",
        "\n",
        "        # Remove punctuation\n",
        "        tokens = [word for word in tokens if word not in string.punctuation]\n",
        "\n",
        "        # Remove stopwords\n",
        "        stop_words = set(stopwords.words('english'))\n",
        "        tokens = [word for word in tokens if word.lower() not in stop_words]\n",
        "\n",
        "        # Join tokens back into a string\n",
        "        preprocessed_text = ' '.join(tokens)\n",
        "\n",
        "        return preprocessed_text\n",
        "    else:\n",
        "        return \"\"  # Return empty string for non-string input\n",
        "\n",
        "\n",
        "# Define the function for testing\n",
        "def test_model(input_text):\n",
        "    # Preprocess the input text\n",
        "    preprocessed_text = preprocess_text(input_text)\n",
        "\n",
        "    # Tokenize the preprocessed text\n",
        "    input_sequence = tokenizer.texts_to_sequences([preprocessed_text])\n",
        "\n",
        "    # Pad the sequence\n",
        "    padded_input_sequence = pad_sequences(input_sequence, maxlen=27, padding='post')\n",
        "\n",
        "    # Make predictions\n",
        "    prediction = loaded_model.predict(np.array(padded_input_sequence))\n",
        "\n",
        "        # Assuming your model prediction is stored in the variable 'prediction'\n",
        "    predicted_numerical_label = np.argmax(prediction)\n",
        "\n",
        "    label_mapping = {'negative': 0, 'positive': 1, 'neutral': 2}\n",
        "\n",
        "    # Reverse mapping from numerical label to original label\n",
        "    predicted_sentiment_label = [key for key, value in label_mapping.items() if value == predicted_numerical_label][0]\n",
        "\n",
        "\n",
        "    return predicted_sentiment_label\n",
        "\n"
      ],
      "metadata": {
        "id": "Czz3ck8NHgOF"
      },
      "execution_count": 15,
      "outputs": []
    },
    {
      "cell_type": "code",
      "source": [
        "# Example usage\n",
        "input_string = \"i like your product it is very good\"\n",
        "result = test_model(input_string)\n",
        "print(\"Predicted Sentiment:\", result)"
      ],
      "metadata": {
        "colab": {
          "base_uri": "https://localhost:8080/"
        },
        "id": "YGHKl-DpHj1D",
        "outputId": "f61a525b-c8ca-4c71-c822-b709b99f9ed1"
      },
      "execution_count": 16,
      "outputs": [
        {
          "output_type": "stream",
          "name": "stdout",
          "text": [
            "1/1 [==============================] - 0s 89ms/step\n",
            "Predicted Sentiment: positive\n"
          ]
        }
      ]
    },
    {
      "cell_type": "code",
      "source": [
        "# Example usage for sentence 1\n",
        "input_string = \"I love sunny days at the beach!\"\n",
        "result = test_model(input_string)\n",
        "print(\"Predicted Sentiment:\", result)\n",
        "\n"
      ],
      "metadata": {
        "colab": {
          "base_uri": "https://localhost:8080/"
        },
        "id": "_6Lq5vz5I2bo",
        "outputId": "94df2855-57c9-4aa3-ac67-225ba0b90449"
      },
      "execution_count": 18,
      "outputs": [
        {
          "output_type": "stream",
          "name": "stdout",
          "text": [
            "1/1 [==============================] - 0s 19ms/step\n",
            "Predicted Sentiment: positive\n"
          ]
        }
      ]
    },
    {
      "cell_type": "code",
      "source": [
        "# Example usage for sentence 2\n",
        "input_string = \"The movie was fantastic, I enjoyed every minute of it.\"\n",
        "result = test_model(input_string)\n",
        "print(\"Predicted Sentiment:\", result)\n",
        "\n"
      ],
      "metadata": {
        "colab": {
          "base_uri": "https://localhost:8080/"
        },
        "id": "gadRsqe4JmNx",
        "outputId": "3c08d7f7-5dad-4519-d9ea-0fe12887c340"
      },
      "execution_count": 19,
      "outputs": [
        {
          "output_type": "stream",
          "name": "stdout",
          "text": [
            "1/1 [==============================] - 0s 58ms/step\n",
            "Predicted Sentiment: positive\n"
          ]
        }
      ]
    },
    {
      "cell_type": "code",
      "source": [
        "# Example usage for sentence 3\n",
        "input_string = \"My dog makes me smile every day.\"\n",
        "result = test_model(input_string)\n",
        "print(\"Predicted Sentiment:\", result)\n",
        "\n"
      ],
      "metadata": {
        "colab": {
          "base_uri": "https://localhost:8080/"
        },
        "id": "qpE2bGobJwSx",
        "outputId": "250fe435-b283-4ba3-bb04-0086d6723eda"
      },
      "execution_count": 20,
      "outputs": [
        {
          "output_type": "stream",
          "name": "stdout",
          "text": [
            "1/1 [==============================] - 0s 17ms/step\n",
            "Predicted Sentiment: positive\n"
          ]
        }
      ]
    },
    {
      "cell_type": "code",
      "source": [
        "# Example usage for sentence 4\n",
        "input_string = \"Traffic jams are so frustrating, they ruin my mood.\"\n",
        "result = test_model(input_string)\n",
        "print(\"Predicted Sentiment:\", result)\n",
        "\n"
      ],
      "metadata": {
        "colab": {
          "base_uri": "https://localhost:8080/"
        },
        "id": "Q0ISU0mtJztF",
        "outputId": "dc87def8-88c2-4e18-f10c-38916487065f"
      },
      "execution_count": 21,
      "outputs": [
        {
          "output_type": "stream",
          "name": "stdout",
          "text": [
            "1/1 [==============================] - 0s 17ms/step\n",
            "Predicted Sentiment: negative\n"
          ]
        }
      ]
    },
    {
      "cell_type": "code",
      "source": [
        "# Example usage for sentence 5\n",
        "input_string = \"The food at that restaurant was terrible, I won't go back.\"\n",
        "result = test_model(input_string)\n",
        "print(\"Predicted Sentiment:\", result)\n",
        "\n",
        "# Example usage for sentence 6\n",
        "input_string = \"Winning the lottery would be a dream come true.\"\n",
        "result = test_model(input_string)\n",
        "print(\"Predicted Sentiment:\", result)\n",
        "\n",
        "# Example usage for sentence 7\n",
        "input_string = \"I feel so lonely when I'm far away from my family.\"\n",
        "result = test_model(input_string)\n",
        "print(\"Predicted Sentiment:\", result)\n",
        "\n",
        "# Example usage for sentence 8\n",
        "input_string = \"My best friend always knows how to cheer me up.\"\n",
        "result = test_model(input_string)\n",
        "print(\"Predicted Sentiment:\", result)\n",
        "\n",
        "# Example usage for sentence 9\n",
        "input_string = \"Getting a promotion at work was the highlight of my year.\"\n",
        "result = test_model(input_string)\n",
        "print(\"Predicted Sentiment:\", result)\n",
        "\n",
        "# Example usage for sentence 10\n",
        "input_string = \"I'm so grateful for all the support I've received from my friends.\"\n",
        "result = test_model(input_string)\n",
        "print(\"Predicted Sentiment:\", result)"
      ],
      "metadata": {
        "colab": {
          "base_uri": "https://localhost:8080/"
        },
        "id": "I2ssnmF6J3QN",
        "outputId": "14295f37-6058-4e6e-eeeb-02e05d3fa44b"
      },
      "execution_count": 22,
      "outputs": [
        {
          "output_type": "stream",
          "name": "stdout",
          "text": [
            "1/1 [==============================] - 0s 17ms/step\n",
            "Predicted Sentiment: negative\n",
            "1/1 [==============================] - 0s 19ms/step\n",
            "Predicted Sentiment: neutral\n",
            "1/1 [==============================] - 0s 20ms/step\n",
            "Predicted Sentiment: negative\n",
            "1/1 [==============================] - 0s 39ms/step\n",
            "Predicted Sentiment: positive\n",
            "1/1 [==============================] - 0s 28ms/step\n",
            "Predicted Sentiment: positive\n",
            "1/1 [==============================] - 0s 28ms/step\n",
            "Predicted Sentiment: positive\n"
          ]
        }
      ]
    },
    {
      "cell_type": "code",
      "source": [],
      "metadata": {
        "id": "jEoTbo3fJ6WU"
      },
      "execution_count": null,
      "outputs": []
    }
  ]
}